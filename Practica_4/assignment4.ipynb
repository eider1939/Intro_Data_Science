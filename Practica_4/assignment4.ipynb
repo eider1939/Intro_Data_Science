{
 "cells": [
  {
   "cell_type": "markdown",
   "metadata": {
    "deletable": false,
    "editable": false,
    "nbgrader": {
     "checksum": "48770f8b5f5d3062d3badd51fcafc401",
     "grade": false,
     "grade_id": "cell-a6c4f74309fc2379",
     "locked": true,
     "schema_version": 1,
     "solution": false
    }
   },
   "source": [
    "# Assignment 4\n",
    "## Description\n",
    "In this assignment you must read in a file of metropolitan regions and associated sports teams from [assets/wikipedia_data.html](assets/wikipedia_data.html) and answer some questions about each metropolitan region. Each of these regions may have one or more teams from the \"Big 4\": NFL (football, in [assets/nfl.csv](assets/nfl.csv)), MLB (baseball, in [assets/mlb.csv](assets/mlb.csv)), NBA (basketball, in [assets/nba.csv](assets/nba.csv) or NHL (hockey, in [assets/nhl.csv](assets/nhl.csv)). Please keep in mind that all questions are from the perspective of the metropolitan region, and that this file is the \"source of authority\" for the location of a given sports team. Thus teams which are commonly known by a different area (e.g. \"Oakland Raiders\") need to be mapped into the metropolitan region given (e.g. San Francisco Bay Area). This will require some human data understanding outside of the data you've been given (e.g. you will have to hand-code some names, and might need to google to find out where teams are)!\n",
    "\n",
    "For each sport I would like you to answer the question: **what is the win/loss ratio's correlation with the population of the city it is in?** Win/Loss ratio refers to the number of wins over the number of wins plus the number of losses. Remember that to calculate the correlation with [`pearsonr`](https://docs.scipy.org/doc/scipy/reference/generated/scipy.stats.pearsonr.html), so you are going to send in two ordered lists of values, the populations from the wikipedia_data.html file and the win/loss ratio for a given sport in the same order. Average the win/loss ratios for those cities which have multiple teams of a single sport. Each sport is worth an equal amount in this assignment (20%\\*4=80%) of the grade for this assignment. You should only use data **from year 2018** for your analysis -- this is important!\n",
    "\n",
    "## Notes\n",
    "\n",
    "1. Do not include data about the MLS or CFL in any of the work you are doing, we're only interested in the Big 4 in this assignment.\n",
    "2. I highly suggest that you first tackle the four correlation questions in order, as they are all similar and worth the majority of grades for this assignment. This is by design!\n",
    "3. It's fair game to talk with peers about high level strategy as well as the relationship between metropolitan areas and sports teams. However, do not post code solving aspects of the assignment (including such as dictionaries mapping areas to teams, or regexes which will clean up names).\n",
    "4. There may be more teams than the assert statements test, remember to collapse multiple teams in one city into a single value!"
   ]
  },
  {
   "cell_type": "markdown",
   "metadata": {
    "deletable": false,
    "editable": false,
    "nbgrader": {
     "checksum": "369ff9ecf0ee04640574205cbc697f94",
     "grade": false,
     "grade_id": "cell-712b2b5da63d4505",
     "locked": true,
     "schema_version": 1,
     "solution": false
    }
   },
   "source": [
    "## Question 1\n",
    "For this question, calculate the win/loss ratio's correlation with the population of the city it is in for the **NHL** using **2018** data."
   ]
  },
  {
   "cell_type": "code",
   "execution_count": 322,
   "metadata": {
    "deletable": false,
    "nbgrader": {
     "checksum": "1cac4803b02502929f5b1612d48db2b5",
     "grade": false,
     "grade_id": "cell-69b16e4386e58030",
     "locked": false,
     "schema_version": 1,
     "solution": true
    }
   },
   "outputs": [],
   "source": [
    "import pandas as pd\n",
    "import numpy as np\n",
    "import scipy.stats as stats\n",
    "import re\n",
    "\n",
    "nhl_df=pd.read_csv(\"assets/nhl.csv\")\n",
    "cities=pd.read_html(\"assets/wikipedia_data.html\")[1]\n",
    "cities=cities.iloc[:-1,[0,3,5,6,7,8]]\n",
    "\n",
    "nhl_df_2018=nhl_df[(nhl_df['year']==2018)] \n",
    "nhl_df_2018.drop([0,9,18,26],inplace=True) #elimar filas nombre de divicion\n",
    "cities_1=cities[['Metropolitan area','Population (2016 est.)[8]','NHL']] #estraer filas de importancia\n",
    "cities_1['team'] = cities_1['NHL'].str.replace(r'(\\[[a-z0-9|\\s]*\\])', '', regex=True) #eliminar los [note 3]\n",
    "#diccionario cambio de nombre de team elimina las areas y solo deja el nombre el equipo\n",
    "#con fin de poder hace run merge left \n",
    "team={'Tampa Bay Lightning*':'Lightning','Boston Bruins*':'Bruins','Toronto Maple Leafs*':'Maple Leafs',\n",
    "     'Florida Panthers':'Panthers', 'Detroit Red Wings':'Red Wings', 'Montreal Canadiens':'Canadiens', \n",
    "      'Ottawa Senators':'Senators','Buffalo Sabres':'Sabres', 'Washington Capitals*':'Capitals', \n",
    "      'Pittsburgh Penguins*':'Penguins','Philadelphia Flyers*':'Flyers', 'Columbus Blue Jackets*':'Blue Jackets',\n",
    "      'New Jersey Devils*':'Devils','Carolina Hurricanes':'Hurricanes',\n",
    "      'New York Islanders':'RangersIslandersDevils', 'New York Rangers':'RangersIslandersDevils',\n",
    "     'Nashville Predators*':'Predators', 'Winnipeg Jets*':'Jets', 'Minnesota Wild*':'Wild', \n",
    "      'Colorado Avalanche*':'Avalanche','St. Louis Blues':'Blues', 'Dallas Stars':'Stars', 'Chicago Blackhawks':'Blackhawks',\n",
    "      'Vegas Golden Knights*':'Golden Knights', 'Anaheim Ducks*':'Ducks', 'San Jose Sharks*':'Sharks', \n",
    "      'Los Angeles Kings*':'KingsDucks', 'Calgary Flames':'Flames','Edmonton Oilers':'Oilers', \n",
    "      'Vancouver Canucks':'Canucks', 'Arizona Coyotes':'Coyotes'}\n",
    "nhl_df_2018['team']=nhl_df_2018['team'].map(team) #usa diccionario para mapear y remplazar\n",
    "#cambio tipo de dato de las columnas\n",
    "nhl_df_2018['W']=nhl_df_2018['W'].astype(float, errors = 'raise')\n",
    "nhl_df_2018['L']=nhl_df_2018['L'].astype(float, errors = 'raise')\n",
    "cities_1['Population (2016 est.)[8]']=cities_1['Population (2016 est.)[8]'].astype(float, errors = 'raise')\n",
    "#cambio de index para los dos dataframes\n",
    "nhl_df_2018.set_index('team',inplace=True)\n",
    "cities_1.set_index('team',inplace=True)\n",
    "#un merge union left team\n",
    "union=pd.merge(nhl_df_2018,cities_1, how='left', left_index=True, right_index=True)\n",
    "#extrae solo las columnas que nos interesan\n",
    "union_1=union[['W','L','Metropolitan area']]\n",
    "union_1=union_1.reset_index() #reset el index pasa a ser los anteriores int\n",
    "union_1=union_1.sort_values('Metropolitan area') #organizar \n",
    "#verificamos en union_1 que equipos no tienen metropolitan area y se le adigna una\n",
    "union_1.loc[union_1.team=='Devils','Metropolitan area']='New York City' \n",
    "union_1.loc[union_1.team=='Ducks','Metropolitan area']='Los Angeles'\n",
    "#agrupamos por area metropolitana y sumamos las victoris y derrotas \n",
    "union_2=union_1.groupby(['Metropolitan area']).sum()\n",
    "#caulcualmos la correlacion entre win/loss\n",
    "union_2=union_2.assign(ratio = lambda x: (x['W'] /(x['W']+x['L'])))\n",
    "#extraemos el la ploblaicon de cada area metropolitana\n",
    "A=union[['Population (2016 est.)[8]','Metropolitan area']]\n",
    "A.set_index('Metropolitan area',inplace=True)\n",
    "\n",
    "def nhl_correlation(): \n",
    "    #unimos union\n",
    "    R=pd.merge(union_2,A, how='left', left_index=True, right_index=True)\n",
    "    R=R.drop_duplicates()\n",
    "    population_by_region =R['Population (2016 est.)[8]'] # pass in metropolitan area population from cities\n",
    "    win_loss_by_region = R['ratio'] # pass in win/loss ratio from nhl_df in the same order as cities[\"Metropolitan area\"]\n",
    "    #return union_1\n",
    "    assert len(population_by_region) == len(win_loss_by_region), \"Q1: Your lists must be the same length\"\n",
    "    assert len(population_by_region) == 28, \"Q1: There should be 28 teams being analysed for NHL\"\n",
    "    \n",
    "    corr=stats.pearsonr(population_by_region, win_loss_by_region)\n",
    "    return corr[0]"
   ]
  },
  {
   "cell_type": "code",
   "execution_count": 323,
   "metadata": {},
   "outputs": [
    {
     "data": {
      "text/plain": [
       "0.012308996455744249"
      ]
     },
     "execution_count": 323,
     "metadata": {},
     "output_type": "execute_result"
    }
   ],
   "source": [
    "nhl_correlation()"
   ]
  },
  {
   "cell_type": "code",
   "execution_count": null,
   "metadata": {
    "deletable": false,
    "editable": false,
    "nbgrader": {
     "checksum": "52a581df513c71153e105b93764cda4b",
     "grade": true,
     "grade_id": "cell-ebe0b2dfe1067e63",
     "locked": true,
     "points": 20,
     "schema_version": 1,
     "solution": false
    }
   },
   "outputs": [],
   "source": []
  },
  {
   "cell_type": "markdown",
   "metadata": {
    "deletable": false,
    "editable": false,
    "nbgrader": {
     "checksum": "988912cae4968d81473f46d783e79c16",
     "grade": false,
     "grade_id": "cell-cb964e690298b71d",
     "locked": true,
     "schema_version": 1,
     "solution": false
    }
   },
   "source": [
    "## Question 2\n",
    "For this question, calculate the win/loss ratio's correlation with the population of the city it is in for the **NBA** using **2018** data."
   ]
  },
  {
   "cell_type": "code",
   "execution_count": 144,
   "metadata": {
    "deletable": false,
    "nbgrader": {
     "checksum": "9394222aafc8ccab0a228098ba0d6010",
     "grade": false,
     "grade_id": "cell-5a5f21279e3d3572",
     "locked": false,
     "schema_version": 1,
     "solution": true
    }
   },
   "outputs": [],
   "source": [
    "import pandas as pd\n",
    "import numpy as np\n",
    "import scipy.stats as stats\n",
    "import re\n",
    "\n",
    "nba_df=pd.read_csv(\"assets/nba.csv\")\n",
    "cities=pd.read_html(\"assets/wikipedia_data.html\")[1]\n",
    "cities=cities.iloc[:-1,[0,3,5,6,7,8]]\n",
    "\n",
    "nba_df_2018=nba_df[(nba_df['year']==2018)] \n",
    "cities_nba=cities[['Metropolitan area','Population (2016 est.)[8]','NBA']] #estraer filas de importancia\n",
    "cities_nba['NBA'] = cities_nba['NBA'].str.replace(r'(\\[[a-z0-9|\\s]*\\])', '', regex=True) #eliminar los [note 3]\n",
    "\n",
    "team={'Toronto Raptors*\\xa0(1)':'Raptors', 'Boston Celtics*\\xa0(2)':'Celtics', 'Philadelphia 76ers*\\xa0(3)':'76ers',\n",
    "      'Cleveland Cavaliers*\\xa0(4)':'Cavaliers', 'Indiana Pacers*\\xa0(5)':'Pacers', 'Miami Heat*\\xa0(6)':'Heat',\n",
    "      'Milwaukee Bucks*\\xa0(7)':'Bucks', 'Washington Wizards*\\xa0(8)':'Wizards', 'Detroit Pistons\\xa0(9)':'Pistons',\n",
    "      'Charlotte Hornets\\xa0(10)':'Hornets', 'New York Knicks\\xa0(11)':'Knicks', 'Brooklyn Nets\\xa0(12)':'Nets',\n",
    "      'Chicago Bulls\\xa0(13)':'Bulls', 'Orlando Magic\\xa0(14)':'Magic', 'Atlanta Hawks\\xa0(15)':'Hawks', \n",
    "      'Houston Rockets*\\xa0(1)':'Rockets', 'Golden State Warriors*\\xa0(2)':'Warriors', 'Portland Trail Blazers*\\xa0(3)':'Trail Blazers', \n",
    "      'Oklahoma City Thunder*\\xa0(4)':'Thunder', 'Utah Jazz*\\xa0(5)':'Jazz', 'New Orleans Pelicans*\\xa0(6)':'Pelicans', \n",
    "      'San Antonio Spurs*\\xa0(7)':'Spurs', 'Minnesota Timberwolves*\\xa0(8)':'Timberwolves', 'Denver Nuggets\\xa0(9)':'Nuggets',\n",
    "      'Los Angeles Clippers\\xa0(10)':'Clippers', 'Los Angeles Lakers\\xa0(11)':'Lakers', 'Sacramento Kings\\xa0(12)':'Kings', \n",
    "      'Dallas Mavericks\\xa0(13)':'Mavericks', 'Memphis Grizzlies\\xa0(14)':'Grizzlies', 'Phoenix Suns\\xa0(15)':'Suns'}\n",
    "\n",
    "nba_df_2018['team']=nba_df_2018['team'].map(team) #usa diccionario para mapear y remplazar\n",
    "#cambio tipo de dato de las columnas\n",
    "nba_df_2018['W']=nba_df_2018['W'].astype(float, errors = 'raise')\n",
    "nba_df_2018['L']=nba_df_2018['L'].astype(float, errors = 'raise')\n",
    "nba_df_2018['W/L%']=nba_df_2018['W/L%'].astype(float, errors = 'raise')\n",
    "cities_nba['Population (2016 est.)[8]']=cities_nba['Population (2016 est.)[8]'].astype(float, errors = 'raise')\n",
    "#cambio de index para los dos dataframes\n",
    "nba_df_2018.set_index('team',inplace=True)\n",
    "cities_nba.set_index('NBA',inplace=True)\n",
    "#union de equipos de nba de 2018 y su respectivas areas metropolitanas\n",
    "union_nba=pd.merge(nba_df_2018,cities_nba, how='left', left_index=True, right_index=True)\n",
    "#extrae solo las columnas que nos interesan\n",
    "union_nba_1=union_nba[['W','L','W/L%','Metropolitan area']]\n",
    "union_nba_1.reset_index(inplace=True) #reset el index pasa a ser los anteriores int\n",
    "union_nba_1.rename(columns={'index':'team'},inplace=True)\n",
    "union_nba_1=union_nba_1.sort_values('Metropolitan area') #organizar\n",
    "#verificamos en union_1 que equipos no tienen metropolitan area y se le adigna una\n",
    "union_nba_1.loc[union_nba_1.team=='Knicks','Metropolitan area']='New York City' \n",
    "union_nba_1.loc[union_nba_1.team=='Nets','Metropolitan area']='New York City'\n",
    "union_nba_1.loc[union_nba_1.team=='Lakers','Metropolitan area']='Los Angeles'\n",
    "union_nba_1.loc[union_nba_1.team=='Clippers','Metropolitan area']='Los Angeles'\n",
    "#agrupamos por area metropolitana y sumamos las victoris y derrotas \n",
    "union_nba_2=union_nba_1.groupby(['Metropolitan area']).sum()\n",
    "#caulcualmos la correlacion entre win/loss\n",
    "union_nba_2=union_nba_2.assign(ratio = lambda x: (x['W'] /(x['W']+x['L'])))\n",
    "#extraemos el la ploblaicon de cada area metropolitana\n",
    "A_nba=cities_nba[['Population (2016 est.)[8]','Metropolitan area']]\n",
    "A_nba.set_index('Metropolitan area',inplace=True)\n",
    "def nba_correlation():\n",
    "    #unimos union\n",
    "    R=pd.merge(union_nba_2,A_nba, how='left', left_index=True, right_index=True)\n",
    "    #raise NotImplementedError()\n",
    "    #return R\n",
    "    population_by_region =R['Population (2016 est.)[8]'] # pass in metropolitan area population from cities\n",
    "    win_loss_by_region = R['ratio'] # pass in win/loss ratio from nba_df in the same order as cities[\"Metropolitan area\"]\n",
    "    #return \n",
    "    assert len(population_by_region) == len(win_loss_by_region), \"Q2: Your lists must be the same length\"\n",
    "    assert len(population_by_region) == 28, \"Q2: There should be 28 teams being analysed for NBA\"\n",
    "\n",
    "    corr=stats.pearsonr(population_by_region, win_loss_by_region)\n",
    "    return corr[0]"
   ]
  },
  {
   "cell_type": "code",
   "execution_count": 145,
   "metadata": {},
   "outputs": [
    {
     "data": {
      "text/plain": [
       "-0.17657160252844617"
      ]
     },
     "execution_count": 145,
     "metadata": {},
     "output_type": "execute_result"
    }
   ],
   "source": [
    "nba_correlation()"
   ]
  },
  {
   "cell_type": "markdown",
   "metadata": {
    "deletable": false,
    "editable": false,
    "nbgrader": {
     "checksum": "1a1a5809f675ca033086422007cd73bd",
     "grade": false,
     "grade_id": "cell-96e15e4335df78f4",
     "locked": true,
     "schema_version": 1,
     "solution": false
    }
   },
   "source": [
    "## Question 3\n",
    "For this question, calculate the win/loss ratio's correlation with the population of the city it is in for the **MLB** using **2018** data."
   ]
  },
  {
   "cell_type": "code",
   "execution_count": 71,
   "metadata": {
    "deletable": false,
    "nbgrader": {
     "checksum": "27e8c0da6c9fa0dffc10488314335b6c",
     "grade": false,
     "grade_id": "cell-33b00fc3f3467b0c",
     "locked": false,
     "schema_version": 1,
     "solution": true
    }
   },
   "outputs": [],
   "source": [
    "import pandas as pd\n",
    "import numpy as np\n",
    "import scipy.stats as stats\n",
    "import re\n",
    "\n",
    "mlb_df=pd.read_csv(\"assets/mlb.csv\")\n",
    "cities=pd.read_html(\"assets/wikipedia_data.html\")[1]\n",
    "cities=cities.iloc[:-1,[0,3,5,6,7,8]]\n",
    "\n",
    "mlb_df_2018=mlb_df[(mlb_df['year']==2018)] \n",
    "cities_mlb=cities[['Metropolitan area','Population (2016 est.)[8]','MLB']] #estraer filas de importancia\n",
    "cities_mlb['MLB'] = cities_mlb['MLB'].str.replace(r'(\\[[a-z0-9|\\s]*\\])', '', regex=True) #eliminar los [note 3]\n",
    "\n",
    "team={'Boston Red Sox':'Red Sox', 'New York Yankees':'Yankees', 'Tampa Bay Rays':'Rays', 'Toronto Blue Jays':'Blue Jays',\n",
    "      'Baltimore Orioles':'Orioles','Cleveland Indians':'Indians', 'Minnesota Twins':'Twins', 'Detroit Tigers':'Tigers', \n",
    "      'Chicago White Sox':'White Sox', 'Kansas City Royals':'Royals','Houston Astros':'Astros', 'Oakland Athletics':'Athletics',\n",
    "      'Seattle Mariners':'Mariners', 'Los Angeles Angels':'Angels', 'Texas Rangers':'Rangers', 'Atlanta Braves':'Braves',\n",
    "      'Washington Nationals':'Nationals', 'Philadelphia Phillies':'Phillies','New York Mets':'Mets','Miami Marlins':'Marlins', \n",
    "      'Milwaukee Brewers':'Brewers', 'Chicago Cubs':'Cubs', 'St. Louis Cardinals':'Cardinals', 'Pittsburgh Pirates':'Pirates',\n",
    "      'Cincinnati Reds':'Reds', 'Los Angeles Dodgers':'Dodgers', 'Colorado Rockies':'Rockies',\n",
    "      'Arizona Diamondbacks':'Diamondbacks', 'San Francisco Giants':'Giants', 'San Diego Padres':'Padres'}\n",
    "\n",
    "mlb_df_2018['team']=mlb_df_2018['team'].map(team) #usa diccionario para mapear y remplazar\n",
    "#cambio tipo de dato de las columnas\n",
    "mlb_df_2018['W']=mlb_df_2018['W'].astype(float, errors = 'raise')\n",
    "mlb_df_2018['L']=mlb_df_2018['L'].astype(float, errors = 'raise')\n",
    "cities_mlb['Population (2016 est.)[8]']=cities_mlb['Population (2016 est.)[8]'].astype(float, errors = 'raise')\n",
    "#cambio de index para los dos dataframes\n",
    "mlb_df_2018.set_index('team',inplace=True)\n",
    "cities_mlb.set_index('MLB',inplace=True)\n",
    "#union de equipos de mlb de 2018 y su respectivas areas metropolitanas\n",
    "union_mlb=pd.merge(mlb_df_2018,cities_mlb, how='left', left_index=True, right_index=True)\n",
    "#extrae solo las columnas que nos interesan\n",
    "union_mlb_1=union_mlb[['W','L','W-L%','Metropolitan area']]\n",
    "union_mlb_1.reset_index(inplace=True) #reset el index pasa a ser los anteriores int\n",
    "union_mlb_1.rename(columns={'index':'team'},inplace=True)\n",
    "union_mlb_1=union_mlb_1.sort_values('Metropolitan area') #organizar\n",
    "#verificamos en union_1 que equipos no tienen metropolitan area y se le adigna una\n",
    "cambios_area={'Giants':'San Francisco Bay Area','Athletics':'San Francisco Bay Area',\n",
    "             'Cubs':'Chicago','White Sox':'Chicago','Yankees':'New York City', 'Mets':'New York City',\n",
    "             'Angels':'Los Angeles','Dodgers':'Los Angeles'}\n",
    "for clave, valor in cambios_area.items():\n",
    "    union_mlb_1.loc[union_mlb_1.team==clave,'Metropolitan area']=valor\n",
    "#agrupamos por area metropolitana y sumamos las victoris y derrotas \n",
    "union_mlb_2=union_mlb_1.groupby(['Metropolitan area']).sum()\n",
    "#caulcualmos la correlacion entre win/loss\n",
    "union_mlb_2=union_mlb_2.assign(ratio = lambda x: (x['W'] /(x['W']+x['L'])))\n",
    "#extraemos el la ploblaicon de cada area metropolitana\n",
    "A_mlb=cities_mlb[['Population (2016 est.)[8]','Metropolitan area']]\n",
    "A_mlb.set_index('Metropolitan area',inplace=True)\n",
    "\n",
    "\n",
    "def mlb_correlation(): \n",
    "    R=pd.merge(union_mlb_2,A_mlb, how='left', left_index=True, right_index=True)\n",
    "    #raise NotImplementedError()\n",
    "    \n",
    "    population_by_region = R['Population (2016 est.)[8]'] # pass in metropolitan area population from cities\n",
    "    win_loss_by_region =R['ratio'] # pass in win/loss ratio from mlb_df in the same order as cities[\"Metropolitan area\"]\n",
    "\n",
    "    assert len(population_by_region) == len(win_loss_by_region), \"Q3: Your lists must be the same length\"\n",
    "    assert len(population_by_region) == 26, \"Q3: There should be 26 teams being analysed for MLB\"\n",
    "\n",
    "    corr_mlb=stats.pearsonr(population_by_region, win_loss_by_region)\n",
    "    return corr_mlb[0]"
   ]
  },
  {
   "cell_type": "code",
   "execution_count": null,
   "metadata": {
    "deletable": false,
    "editable": false,
    "nbgrader": {
     "checksum": "cda33b094ba19ccc37a481e0dd29e0bc",
     "grade": true,
     "grade_id": "cell-764d4476f425c5a2",
     "locked": true,
     "points": 20,
     "schema_version": 1,
     "solution": false
    }
   },
   "outputs": [],
   "source": []
  },
  {
   "cell_type": "code",
   "execution_count": 72,
   "metadata": {},
   "outputs": [
    {
     "data": {
      "text/plain": [
       "0.1505230448710485"
      ]
     },
     "execution_count": 72,
     "metadata": {},
     "output_type": "execute_result"
    }
   ],
   "source": [
    "mlb_correlation()"
   ]
  },
  {
   "cell_type": "markdown",
   "metadata": {
    "deletable": false,
    "editable": false,
    "nbgrader": {
     "checksum": "6977a6da9ed6d8b7a0b7e37bbeda709b",
     "grade": false,
     "grade_id": "cell-793df6c04dfb126e",
     "locked": true,
     "schema_version": 1,
     "solution": false
    }
   },
   "source": [
    "## Question 4\n",
    "For this question, calculate the win/loss ratio's correlation with the population of the city it is in for the **NFL** using **2018** data."
   ]
  },
  {
   "cell_type": "code",
   "execution_count": 75,
   "metadata": {
    "deletable": false,
    "nbgrader": {
     "checksum": "c4914ad1e119278ec2bd567c52640b66",
     "grade": false,
     "grade_id": "cell-8ccebc209aeec8d9",
     "locked": false,
     "schema_version": 1,
     "solution": true
    }
   },
   "outputs": [],
   "source": [
    "import pandas as pd\n",
    "import numpy as np\n",
    "import scipy.stats as stats\n",
    "import re\n",
    "\n",
    "nfl_df=pd.read_csv(\"assets/nfl.csv\")\n",
    "cities=pd.read_html(\"assets/wikipedia_data.html\")[1]\n",
    "cities=cities.iloc[:-1,[0,3,5,6,7,8]]\n",
    "\n",
    "nfl_df_2018=nfl_df[(nfl_df['year']==2018)] \n",
    "nfl_df_2018.drop([0,5,10,15,20,25,30,35],inplace=True) #elimar filas nombre de divicion\n",
    "cities_nfl=cities[['Metropolitan area','Population (2016 est.)[8]','NFL']] #estraer filas de importancia\n",
    "cities_nfl['NFL'] = cities_nfl['NFL'].str.replace(r'(\\[[a-z0-9|\\s]*\\])', '', regex=True) #eliminar los [note 3]\n",
    "team={'New England Patriots*':'Patriots', 'Miami Dolphins':'Dolphins', 'Buffalo Bills':'Bills', 'New York Jets':'Jets',\n",
    "      'Baltimore Ravens*':'Ravens', 'Pittsburgh Steelers':'Steelers', 'Cleveland Browns':'Browns', 'Cincinnati Bengals':'Bengals',\n",
    "      'Houston Texans*':'Texans', 'Indianapolis Colts+':'Colts', 'Tennessee Titans':'Titans', 'Jacksonville Jaguars':'Jaguars', \n",
    "      'Kansas City Chiefs*':'Chiefs', 'Los Angeles Chargers+':'Chargers', 'Denver Broncos':'Broncos', 'Oakland Raiders':'Raiders',\n",
    "      'Dallas Cowboys*':'Cowboys', 'Philadelphia Eagles+':'Eagles', 'Washington Redskins':'Redskins', 'New York Giants':'Giants',\n",
    "      'Chicago Bears*':'Bears', 'Minnesota Vikings':'Vikings', 'Green Bay Packers':'Packers', 'Detroit Lions':'Lions',\n",
    "      'New Orleans Saints*':'Saints','Carolina Panthers':'Panthers', 'Atlanta Falcons':'Falcons', \n",
    "      'Tampa Bay Buccaneers':'Buccaneers', 'Los Angeles Rams*':'Rams',\n",
    "      'Seattle Seahawks+':'Seahawks', 'San Francisco 49ers':'49ers', 'Arizona Cardinals':'Cardinals'}\n",
    "\n",
    "nfl_df_2018['team']=nfl_df_2018['team'].map(team) #usa diccionario para mapear y remplazar\n",
    "#cambio tipo de dato de las columnas\n",
    "nfl_df_2018['W']=nfl_df_2018['W'].astype(float, errors = 'raise')\n",
    "nfl_df_2018['L']=nfl_df_2018['L'].astype(float, errors = 'raise')\n",
    "cities_nfl['Population (2016 est.)[8]']=cities_nfl['Population (2016 est.)[8]'].astype(float, errors = 'raise')\n",
    "#cambio de index para los dos dataframes\n",
    "nfl_df_2018.set_index('team',inplace=True)\n",
    "cities_nfl.set_index('NFL',inplace=True)\n",
    "#union de equipos de nfl de 2018 y su respectivas areas metropolitanas\n",
    "union_nfl=pd.merge(nfl_df_2018,cities_nfl, how='left', left_index=True, right_index=True)\n",
    "#extrae solo las columnas que nos interesan\n",
    "union_nfl_1=union_nfl[['W','L','W-L%','Metropolitan area']]\n",
    "union_nfl_1.reset_index(inplace=True) #reset el index pasa a ser los anteriores int\n",
    "union_nfl_1.rename(columns={'index':'team'},inplace=True)\n",
    "union_nfl_1=union_nfl_1.sort_values('Metropolitan area') #organizar\n",
    "#verificamos en union_1 que equipos no tienen metropolitan area y se le adigna una\n",
    "cambios_area={'49ers':'San Francisco Bay Area','Raiders':'San Francisco Bay Area',\n",
    "             'Giants':'New York City', 'Jets':'New York City',\n",
    "             'Chargers':'Los Angeles','Rams':'Los Angeles'}\n",
    "for clave, valor in cambios_area.items():\n",
    "    union_nfl_1.loc[union_nfl_1.team==clave,'Metropolitan area']=valor\n",
    "#agrupamos por area metropolitana y sumamos las victoris y derrotas \n",
    "union_nfl_2=union_nfl_1.groupby(['Metropolitan area']).sum()\n",
    "#caulcualmos la correlacion entre win/loss\n",
    "union_nfl_2=union_nfl_2.assign(ratio = lambda x: (x['W'] /(x['W']+x['L'])))\n",
    "#extraemos el la ploblaicon de cada area metropolitana\n",
    "A_nfl=cities_nfl[['Population (2016 est.)[8]','Metropolitan area']]\n",
    "A_nfl.set_index('Metropolitan area',inplace=True)\n",
    "def nfl_correlation(): \n",
    "    R=pd.merge(union_nfl_2,A_nfl, how='left', left_index=True, right_index=True)\n",
    "    #raise NotImplementedError()\n",
    "    \n",
    "    population_by_region = R['Population (2016 est.)[8]'] # pass in metropolitan area population from cities\n",
    "    win_loss_by_region = R['ratio']# pass in win/loss ratio from nfl_df in the same order as cities[\"Metropolitan area\"]\n",
    "\n",
    "    assert len(population_by_region) == len(win_loss_by_region), \"Q4: Your lists must be the same length\"\n",
    "    assert len(population_by_region) == 29, \"Q4: There should be 29 teams being analysed for NFL\"\n",
    "\n",
    "    corr_nfl= stats.pearsonr(population_by_region, win_loss_by_region)\n",
    "    return corr_nfl[0]"
   ]
  },
  {
   "cell_type": "code",
   "execution_count": null,
   "metadata": {
    "deletable": false,
    "editable": false,
    "nbgrader": {
     "checksum": "e9415d6399aa49e3a1a60813afdefa3b",
     "grade": true,
     "grade_id": "cell-de7b148b9554dbda",
     "locked": true,
     "points": 20,
     "schema_version": 1,
     "solution": false
    }
   },
   "outputs": [],
   "source": []
  },
  {
   "cell_type": "code",
   "execution_count": 76,
   "metadata": {},
   "outputs": [
    {
     "data": {
      "text/plain": [
       "0.004922112149349393"
      ]
     },
     "execution_count": 76,
     "metadata": {},
     "output_type": "execute_result"
    }
   ],
   "source": [
    "nfl_correlation()"
   ]
  },
  {
   "cell_type": "markdown",
   "metadata": {
    "deletable": false,
    "editable": false,
    "nbgrader": {
     "checksum": "b02d5cd3273f561e4ae939bb2a41740c",
     "grade": false,
     "grade_id": "cell-97b49d8639e908c4",
     "locked": true,
     "schema_version": 1,
     "solution": false
    }
   },
   "source": [
    "## Question 5\n",
    "In this question I would like you to explore the hypothesis that **given that an area has two sports teams in different sports, those teams will perform the same within their respective sports**. How I would like to see this explored is with a series of paired t-tests (so use [`ttest_rel`](https://docs.scipy.org/doc/scipy/reference/generated/scipy.stats.ttest_rel.html)) between all pairs of sports. Are there any sports where we can reject the null hypothesis? Again, average values where a sport has multiple teams in one region. Remember, you will only be including, for each sport, cities which have teams engaged in that sport, drop others as appropriate. This question is worth 20% of the grade for this assignment."
   ]
  },
  {
   "cell_type": "code",
   "execution_count": null,
   "metadata": {
    "deletable": false,
    "nbgrader": {
     "checksum": "6d78c961eb66f8d8c81f06d33ae8f393",
     "grade": false,
     "grade_id": "cell-92f25f44b8d1179f",
     "locked": false,
     "schema_version": 1,
     "solution": true
    }
   },
   "outputs": [],
   "source": [
    "import pandas as pd\n",
    "import numpy as np\n",
    "import scipy.stats as stats\n",
    "import re\n",
    "\n",
    "mlb_df=pd.read_csv(\"assets/mlb.csv\")\n",
    "nhl_df=pd.read_csv(\"assets/nhl.csv\")\n",
    "nba_df=pd.read_csv(\"assets/nba.csv\")\n",
    "nfl_df=pd.read_csv(\"assets/nfl.csv\")\n",
    "cities=pd.read_html(\"assets/wikipedia_data.html\")[1]\n",
    "cities=cities.iloc[:-1,[0,3,5,6,7,8]]\n",
    "\n",
    "def sports_team_performance():\n",
    "    # YOUR CODE HERE\n",
    "    raise NotImplementedError()\n",
    "    \n",
    "    # Note: p_values is a full dataframe, so df.loc[\"NFL\",\"NBA\"] should be the same as df.loc[\"NBA\",\"NFL\"] and\n",
    "    # df.loc[\"NFL\",\"NFL\"] should return np.nan\n",
    "    sports = ['NFL', 'NBA', 'NHL', 'MLB']\n",
    "    p_values = pd.DataFrame({k:np.nan for k in sports}, index=sports)\n",
    "    \n",
    "    assert abs(p_values.loc[\"NBA\", \"NHL\"] - 0.02) <= 1e-2, \"The NBA-NHL p-value should be around 0.02\"\n",
    "    assert abs(p_values.loc[\"MLB\", \"NFL\"] - 0.80) <= 1e-2, \"The MLB-NFL p-value should be around 0.80\"\n",
    "    return p_values"
   ]
  },
  {
   "cell_type": "code",
   "execution_count": null,
   "metadata": {
    "deletable": false,
    "editable": false,
    "nbgrader": {
     "checksum": "2a596ab421a45cc01168d10e8fbb8f89",
     "grade": true,
     "grade_id": "cell-fb4b9cb5ff4570a6",
     "locked": true,
     "points": 20,
     "schema_version": 1,
     "solution": false
    }
   },
   "outputs": [],
   "source": []
  }
 ],
 "metadata": {
  "coursera": {
   "schema_names": [
    "mooc_adswpy_1_v2_assignment4"
   ]
  },
  "kernelspec": {
   "display_name": "Python 3.10.6 64-bit",
   "language": "python",
   "name": "python3"
  },
  "language_info": {
   "codemirror_mode": {
    "name": "ipython",
    "version": 3
   },
   "file_extension": ".py",
   "mimetype": "text/x-python",
   "name": "python",
   "nbconvert_exporter": "python",
   "pygments_lexer": "ipython3",
   "version": "3.10.6"
  },
  "vscode": {
   "interpreter": {
    "hash": "fbc768028c3e6ead51d9a200ddcb2ec858ae62844dcd1994729a8279be9b48f2"
   }
  }
 },
 "nbformat": 4,
 "nbformat_minor": 4
}
